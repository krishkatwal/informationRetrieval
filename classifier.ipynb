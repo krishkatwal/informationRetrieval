{
 "cells": [
  {
   "cell_type": "code",
   "execution_count": 2,
   "id": "b959ad6c-263e-4d34-95cf-fcc3807dedac",
   "metadata": {},
   "outputs": [
    {
     "name": "stdout",
     "output_type": "stream",
     "text": [
      "Requirement already satisfied: scikit-multilearn in /Users/krish/opt/anaconda3/lib/python3.9/site-packages (0.2.0)\n"
     ]
    }
   ],
   "source": [
    "!pip install scikit-multilearn"
   ]
  },
  {
   "cell_type": "code",
   "execution_count": 3,
   "id": "076ef36c-08eb-4775-a045-d69786225e23",
   "metadata": {},
   "outputs": [],
   "source": [
    "from tkinter import *\n",
    "from tkinter.messagebox import *\n",
    "import numpy as np\n",
    "import pandas as pd\n",
    "import seaborn as sns; sns.set()\n",
    "from nltk.corpus import stopwords\n",
    "from nltk.stem import PorterStemmer\n",
    "from nltk.tokenize import word_tokenize\n",
    "from sklearn.feature_extraction.text import TfidfVectorizer\n",
    "from sklearn.metrics import confusion_matrix, f1_score, accuracy_score, classification_report\n",
    "from sklearn.naive_bayes import MultinomialNB\n",
    "from skmultilearn.problem_transform import ClassifierChain\n",
    "import matplotlib.pyplot as plt\n",
    "import pickle\n",
    "from sklearn.pipeline import Pipeline"
   ]
  },
  {
   "cell_type": "code",
   "execution_count": 4,
   "id": "49e26706-2ccc-45bf-9972-10ab32110e34",
   "metadata": {},
   "outputs": [],
   "source": [
    "train_data = pd.read_csv('Train.csv')\n",
    "test_data = pd.read_csv('Test.csv')\n"
   ]
  },
  {
   "cell_type": "code",
   "execution_count": 5,
   "id": "09775ae4-e078-46e4-89e7-91d7f4c3ff0a",
   "metadata": {},
   "outputs": [],
   "source": [
    "abstract_list_train = []\n",
    "abstract_list_test = []\n",
    "stemmer = PorterStemmer()\n",
    "stop_words = stopwords.words('english')"
   ]
  },
  {
   "cell_type": "code",
   "execution_count": 6,
   "id": "72014b61-06d6-4f03-8e30-0d5767640c53",
   "metadata": {},
   "outputs": [],
   "source": [
    "#Remove StopWords and Stemming\n",
    "def remove_stopwords(data = []):\n",
    "    data_list = []\n",
    "    for name in data:\n",
    "        words = word_tokenize(name)\n",
    "        stem_word = \"\"\n",
    "        for a in words:\n",
    "            if a.lower() not in stop_words:\n",
    "                stem_word += stemmer.stem(a) + ' '\n",
    "        data_list.append(stem_word.lower())\n",
    "    return data_list"
   ]
  },
  {
   "cell_type": "code",
   "execution_count": 7,
   "id": "436305bd-320f-4903-bed8-f60e59816791",
   "metadata": {},
   "outputs": [],
   "source": [
    "#Remove Special Characters\n",
    "def remove_special_character(data = []):\n",
    "    abstract_list_wo_sc = []\n",
    "    special_characters = '''!()-—[]{};:'\"\\, <>./?@#$%^&*_~0123456789+=’‘'''\n",
    "    for file in data:\n",
    "        word_wo_sc = \"\"\n",
    "        if len(file.split()) == 1:\n",
    "            abstract_list_wo_sc.append(file)\n",
    "        else:\n",
    "            for a in file:\n",
    "                if a in special_characters:\n",
    "                    word_wo_sc += ' '\n",
    "                else:\n",
    "                    word_wo_sc += a\n",
    "            abstract_list_wo_sc.append(word_wo_sc)\n",
    "    return abstract_list_wo_sc\n"
   ]
  },
  {
   "cell_type": "code",
   "execution_count": 8,
   "id": "085c2363-eadd-4121-be33-64b6c0c038c2",
   "metadata": {},
   "outputs": [],
   "source": [
    "#Remove stopwords from Train Data\n",
    "data_train = np.array(train_data['ABSTRACT'])\n",
    "abstract_list_train = remove_stopwords(data_train)\n"
   ]
  },
  {
   "cell_type": "code",
   "execution_count": 9,
   "id": "c84bac62-1aca-483b-abd3-25f163b8cfc7",
   "metadata": {},
   "outputs": [],
   "source": [
    "#Remove stopwords from Test Data\n",
    "data_test = np.array(test_data['ABSTRACT'])\n",
    "abstract_list_test = remove_stopwords(data_test)\n"
   ]
  },
  {
   "cell_type": "code",
   "execution_count": 10,
   "id": "dcfedbcd-34b4-4d33-b586-f25c792b9697",
   "metadata": {},
   "outputs": [],
   "source": [
    "#Removing speaial characters from Train Data and Test Data\n",
    "abstract_list_wo_sc_train = remove_special_character(abstract_list_train)\n",
    "abstract_list_wo_sc_test = remove_special_character(abstract_list_test)\n"
   ]
  },
  {
   "cell_type": "code",
   "execution_count": 11,
   "id": "d400a60d-697d-4d65-bf43-2549476f3bbb",
   "metadata": {},
   "outputs": [],
   "source": [
    "\n",
    "categories=['Computer Science', 'Physics', 'Mathematics', 'Statistics']"
   ]
  },
  {
   "cell_type": "code",
   "execution_count": 12,
   "id": "fc235f02-e403-453a-88f3-aaea330e543a",
   "metadata": {},
   "outputs": [],
   "source": [
    "x_train = abstract_list_wo_sc_train\n",
    "y_train = train_data[categories]\n",
    "x_test = abstract_list_wo_sc_test\n",
    "y_test = test_data[categories]"
   ]
  },
  {
   "cell_type": "code",
   "execution_count": 13,
   "id": "5fdac0e4-7e5d-458d-9f91-d8814cf0ffc6",
   "metadata": {},
   "outputs": [
    {
     "name": "stdout",
     "output_type": "stream",
     "text": [
      "There are  14004  input training samples\n",
      "There are  6002  input testing samples\n",
      "There are  (14004, 4)  output training samples\n",
      "There are  (6002, 4)  output testing samples\n"
     ]
    }
   ],
   "source": [
    "print(\"There are \", len(x_train), \" input training samples\")\n",
    "print(\"There are \", len(x_test), \" input testing samples\")\n",
    "print(\"There are \", y_train.shape, \" output training samples\")\n",
    "print(\"There are \", y_test.shape, \" output testing samples\")\n"
   ]
  },
  {
   "cell_type": "code",
   "execution_count": 14,
   "id": "3d12d85f-5a50-4601-b632-ce197559e5a6",
   "metadata": {},
   "outputs": [],
   "source": [
    "# defining parameters for pipeline\n",
    "parameters = Pipeline([('tfidf', TfidfVectorizer(stop_words=stop_words)),('clf', ClassifierChain(MultinomialNB())),])\n"
   ]
  },
  {
   "cell_type": "code",
   "execution_count": 15,
   "id": "8c3d37dd-aa02-4efb-b295-e4fbb6a4b804",
   "metadata": {},
   "outputs": [
    {
     "data": {
      "text/plain": [
       "Pipeline(steps=[('tfidf',\n",
       "                 TfidfVectorizer(stop_words=['i', 'me', 'my', 'myself', 'we',\n",
       "                                             'our', 'ours', 'ourselves', 'you',\n",
       "                                             \"you're\", \"you've\", \"you'll\",\n",
       "                                             \"you'd\", 'your', 'yours',\n",
       "                                             'yourself', 'yourselves', 'he',\n",
       "                                             'him', 'his', 'himself', 'she',\n",
       "                                             \"she's\", 'her', 'hers', 'herself',\n",
       "                                             'it', \"it's\", 'its', 'itself', ...])),\n",
       "                ('clf',\n",
       "                 ClassifierChain(classifier=MultinomialNB(),\n",
       "                                 require_dense=[True, True]))])"
      ]
     },
     "execution_count": 15,
     "metadata": {},
     "output_type": "execute_result"
    }
   ],
   "source": [
    "# train data\n",
    "parameters.fit(x_train, y_train)\n"
   ]
  },
  {
   "cell_type": "code",
   "execution_count": 16,
   "id": "8f4ecc2d-cb96-4f20-b4c4-90289d3700dd",
   "metadata": {},
   "outputs": [],
   "source": [
    "# predict\n",
    "predictions = parameters.predict(x_test)\n"
   ]
  },
  {
   "cell_type": "code",
   "execution_count": 17,
   "id": "d4fb6a38-d0a9-435e-b8dd-01070752c765",
   "metadata": {},
   "outputs": [
    {
     "name": "stdout",
     "output_type": "stream",
     "text": [
      "Accuracy =  0.6391202932355882\n",
      "F1 score is  0.7653077537969625\n",
      "              precision    recall  f1-score   support\n",
      "\n",
      "           0       0.78      0.88      0.83      2529\n",
      "           1       0.99      0.87      0.92      1644\n",
      "           2       0.99      0.48      0.65      1194\n",
      "           3       0.92      0.34      0.49      1660\n",
      "\n",
      "   micro avg       0.87      0.68      0.77      7027\n",
      "   macro avg       0.92      0.64      0.72      7027\n",
      "weighted avg       0.90      0.68      0.74      7027\n",
      " samples avg       0.76      0.72      0.73      7027\n",
      "\n"
     ]
    },
    {
     "name": "stderr",
     "output_type": "stream",
     "text": [
      "/Users/krish/opt/anaconda3/lib/python3.9/site-packages/sklearn/metrics/_classification.py:1318: UndefinedMetricWarning: Precision and F-score are ill-defined and being set to 0.0 in samples with no predicted labels. Use `zero_division` parameter to control this behavior.\n",
      "  _warn_prf(average, modifier, msg_start, len(result))\n"
     ]
    }
   ],
   "source": [
    "\n",
    "print('Accuracy = ', accuracy_score(y_test,predictions))\n",
    "print('F1 score is ',f1_score(y_test, predictions, average=\"micro\"))\n",
    "print(classification_report(y_test,predictions))"
   ]
  },
  {
   "cell_type": "code",
   "execution_count": 18,
   "id": "cf65b822-59ab-4c14-a386-122ab12d72a0",
   "metadata": {},
   "outputs": [
    {
     "data": {
      "image/png": "[encoded data removed]",
      "text/plain": [
       "<Figure size 640x480 with 1 Axes>"
      ]
     },
     "metadata": {},
     "output_type": "display_data"
    }
   ],
   "source": [
    "#Confusion Matrix and HeatMap Generation\n",
    "mat = confusion_matrix(y_test.values.argmax(axis=1), predictions.argmax(axis=1))\n",
    "sns.heatmap(mat.T, square=True, annot=True, fmt='d', cbar=False, cmap=\"Blues\")\n",
    "plt.xlabel('true label')\n",
    "plt.ylabel('predicted label')\n",
    "plt.show()"
   ]
  },
  {
   "cell_type": "code",
   "execution_count": 19,
   "id": "4805d47a-8ffa-4d2d-906d-f72d3e74d4fe",
   "metadata": {},
   "outputs": [],
   "source": [
    "with open('model_MultiNB.pkl', 'wb') as picklefile:\n",
    "    pickle.dump(parameters.named_steps['clf'], picklefile)"
   ]
  },
  {
   "cell_type": "code",
   "execution_count": null,
   "id": "af420e8d-193d-4460-a220-f71d56031e88",
   "metadata": {},
   "outputs": [],
   "source": []
  },
  {
   "cell_type": "code",
   "execution_count": null,
   "id": "731fe2ac-f2e3-432c-9354-491e72982585",
   "metadata": {},
   "outputs": [],
   "source": []
  },
  {
   "cell_type": "code",
   "execution_count": null,
   "id": "d1c35db4-c2f0-4651-978a-c0801028b370",
   "metadata": {},
   "outputs": [],
   "source": []
  },
  {
   "cell_type": "code",
   "execution_count": null,
   "id": "1128ccd8-37de-4dfa-a980-92e520645b1e",
   "metadata": {},
   "outputs": [],
   "source": []
  }
 ],
 "metadata": {
  "kernelspec": {
   "display_name": "Python 3 (ipykernel)",
   "language": "python",
   "name": "python3"
  },
  "language_info": {
   "codemirror_mode": {
    "name": "ipython",
    "version": 3
   },
   "file_extension": ".py",
   "mimetype": "text/x-python",
   "name": "python",
   "nbconvert_exporter": "python",
   "pygments_lexer": "ipython3",
   "version": "3.9.13"
  }
 },
 "nbformat": 4,
 "nbformat_minor": 5
}
