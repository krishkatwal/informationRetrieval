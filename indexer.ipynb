{
 "cells": [
  {
   "cell_type": "code",
   "execution_count": 4,
   "id": "d31c81d6-25e2-4680-b7d2-b25dfae1774b",
   "metadata": {},
   "outputs": [],
   "source": [
    "import ujson\n",
    "import nltk\n",
    "from nltk.corpus import stopwords\n",
    "from nltk.tokenize import word_tokenize\n",
    "from nltk.stem import PorterStemmer\n"
   ]
  },
  {
   "cell_type": "code",
   "execution_count": 5,
   "id": "de402822-666c-4168-bdbc-fecddf3663e9",
   "metadata": {},
   "outputs": [],
   "source": [
    "from nltk.corpus import stopwords"
   ]
  },
  {
   "cell_type": "code",
   "execution_count": 6,
   "id": "df66842f-1029-41e6-b953-9feb6c003598",
   "metadata": {},
   "outputs": [
    {
     "name": "stdout",
     "output_type": "stream",
     "text": [
      "16999\n"
     ]
    }
   ],
   "source": [
    "#Preprosessing data before indexing\n",
    "with open('scraper_results.json', 'r') as doc: scraper_results=doc.read()\n",
    "\n",
    "pubName = []\n",
    "pubURL = []\n",
    "pubCUAuthor = []\n",
    "pubDate = []\n",
    "data_dict = ujson.loads(scraper_results)\n",
    "array_length = len(data_dict)\n",
    "print(array_length)\n"
   ]
  },
  {
   "cell_type": "code",
   "execution_count": 7,
   "id": "bdc9a94c-b80d-4e62-8d92-828f0f7ec194",
   "metadata": {},
   "outputs": [],
   "source": [
    "#Seperate name, url, date, author in different file\n",
    "for item in data_dict:\n",
    "    pubName.append(item[\"name\"])\n",
    "    pubURL.append(item[\"pub_url\"])\n",
    "    pubCUAuthor.append(item[\"cu_author\"])\n",
    "    pubDate.append(item[\"date\"])\n",
    "with open('pub_name.json', 'w') as f:ujson.dump(pubName, f)\n",
    "with open('pub_url.json', 'w') as f:ujson.dump(pubURL, f)\n",
    "with open('pub_cu_author.json', 'w') as f:ujson.dump(pubCUAuthor, f)\n",
    "with open('pub_date.json', 'w') as f: ujson.dump(pubDate, f)\n"
   ]
  },
  {
   "cell_type": "code",
   "execution_count": 8,
   "id": "b45b9794-6824-44fc-9821-19d03e33aa54",
   "metadata": {},
   "outputs": [
    {
     "name": "stderr",
     "output_type": "stream",
     "text": [
      "[nltk_data] Downloading package stopwords to /Users/krish/nltk_data...\n",
      "[nltk_data]   Package stopwords is already up-to-date!\n",
      "[nltk_data] Downloading package punkt to /Users/krish/nltk_data...\n",
      "[nltk_data]   Package punkt is already up-to-date!\n"
     ]
    },
    {
     "data": {
      "text/plain": [
       "True"
      ]
     },
     "execution_count": 8,
     "metadata": {},
     "output_type": "execute_result"
    }
   ],
   "source": [
    "\n",
    "#Downloading libraries to use its methods\n",
    "nltk.download('stopwords')\n",
    "nltk.download('punkt')"
   ]
  },
  {
   "cell_type": "code",
   "execution_count": 9,
   "id": "bdc895d9-110a-486e-a740-87f15950cc93",
   "metadata": {},
   "outputs": [],
   "source": [
    "#Open a file with publication names in read mode\n",
    "with open('pub_name.json','r') as f:publication=f.read()"
   ]
  },
  {
   "cell_type": "code",
   "execution_count": 10,
   "id": "4c1dc457-f84f-4ff2-be72-337a98e6eaca",
   "metadata": {},
   "outputs": [],
   "source": [
    "#Load JSON File\n",
    "pubName = ujson.loads(publication)\n"
   ]
  },
  {
   "cell_type": "code",
   "execution_count": 11,
   "id": "e3c6cdc0-c667-48c4-be17-1fe2e14d808c",
   "metadata": {},
   "outputs": [
    {
     "name": "stdout",
     "output_type": "stream",
     "text": [
      "16999\n"
     ]
    }
   ],
   "source": [
    "#Predefined stopwords in nltk are used\n",
    "stop_words = stopwords.words('english')\n",
    "stemmer = PorterStemmer()\n",
    "pub_list_first_stem = []\n",
    "pub_list = []\n",
    "pub_list_wo_sc = []\n",
    "print(len(pubName))\n"
   ]
  },
  {
   "cell_type": "code",
   "execution_count": 12,
   "id": "144db96c-39f3-4cb4-89b0-f61178f79525",
   "metadata": {},
   "outputs": [],
   "source": [
    "for file in pubName:\n",
    "    #Splitting strings to tokens(words)\n",
    "    words = word_tokenize(file)\n",
    "    stem_word = \"\"\n",
    "    for i in words:\n",
    "        if i.lower() not in stop_words:\n",
    "            stem_word += stemmer.stem(i) + \" \"\n",
    "    pub_list_first_stem.append(stem_word)\n",
    "    pub_list.append(file)\n"
   ]
  },
  {
   "cell_type": "code",
   "execution_count": 13,
   "id": "49c5fbf6-9304-44d4-adb1-39ffcc51e29f",
   "metadata": {},
   "outputs": [],
   "source": [
    "\n",
    "#Removing all below characters\n",
    "special_characters = '''!()-—[]{};:'\"\\, <>./?@#$%^&*_~0123456789+=’‘'''\n",
    "for file in pub_list:\n",
    "    word_wo_sc = \"\"\n",
    "    if len(file.split()) ==1 : pub_list_wo_sc.append(file)\n",
    "    else:\n",
    "        for a in file:\n",
    "            if a in special_characters:\n",
    "                word_wo_sc += ' '\n",
    "            else:\n",
    "                word_wo_sc += a\n",
    "        #print(word_wo_sc)\n",
    "        pub_list_wo_sc.append(word_wo_sc)"
   ]
  },
  {
   "cell_type": "code",
   "execution_count": 14,
   "id": "74e18512-f54f-4d23-a96d-0a6a11ca9515",
   "metadata": {},
   "outputs": [],
   "source": [
    "#Stemming Process\n",
    "pub_list_stem_wo_sw = []\n",
    "for name in pub_list_wo_sc:\n",
    "    words = word_tokenize(name)\n",
    "    stem_word = \"\"\n",
    "    for a in words:\n",
    "        if a.lower() not in stop_words:\n",
    "            stem_word += stemmer.stem(a) + ' '\n",
    "    pub_list_stem_wo_sw.append(stem_word.lower())\n",
    "\n",
    "data_dict = {}"
   ]
  },
  {
   "cell_type": "code",
   "execution_count": 15,
   "id": "4265e3f3-50d9-4ce2-9816-6051717533fc",
   "metadata": {},
   "outputs": [],
   "source": [
    "# Indexing process\n",
    "for a in range(len(pub_list_stem_wo_sw)):\n",
    "    for b in pub_list_stem_wo_sw[a].split():\n",
    "        if b not in data_dict:\n",
    "             data_dict[b] = [a]\n",
    "        else:\n",
    "            data_dict[b].append(a)"
   ]
  },
  {
   "cell_type": "code",
   "execution_count": 16,
   "id": "39da313b-c35b-4162-8c9b-fb29e1fb75fd",
   "metadata": {},
   "outputs": [
    {
     "name": "stdout",
     "output_type": "stream",
     "text": [
      "16999\n",
      "16999\n",
      "16999\n",
      "16999\n"
     ]
    }
   ],
   "source": [
    "print(len(pub_list_wo_sc))\n",
    "print(len(pub_list_stem_wo_sw))\n",
    "print(len(pub_list_first_stem))\n",
    "print(len(pub_list))\n"
   ]
  },
  {
   "cell_type": "code",
   "execution_count": 17,
   "id": "49f54e03-7f52-4cf0-9ea3-1b59076cd108",
   "metadata": {},
   "outputs": [],
   "source": [
    "# with open('publication_list.json', 'w') as f:\n",
    "#     ujson.dump(pub_list, f)\n",
    "\n",
    "with open('publication_list_stemmed.json', 'w') as f:\n",
    "    ujson.dump(pub_list_first_stem, f)\n",
    "\n",
    "with open('publication_indexed_dictionary.json', 'w') as f:\n",
    "    ujson.dump(data_dict, f)"
   ]
  },
  {
   "cell_type": "code",
   "execution_count": null,
   "id": "b95af6e7-90ea-4516-82b0-563b7770a4c2",
   "metadata": {},
   "outputs": [],
   "source": []
  },
  {
   "cell_type": "code",
   "execution_count": null,
   "id": "0926ba73-72db-4224-a527-a71750b3536c",
   "metadata": {},
   "outputs": [],
   "source": []
  }
 ],
 "metadata": {
  "kernelspec": {
   "display_name": "Python 3 (ipykernel)",
   "language": "python",
   "name": "python3"
  },
  "language_info": {
   "codemirror_mode": {
    "name": "ipython",
    "version": 3
   },
   "file_extension": ".py",
   "mimetype": "text/x-python",
   "name": "python",
   "nbconvert_exporter": "python",
   "pygments_lexer": "ipython3",
   "version": "3.9.13"
  }
 },
 "nbformat": 4,
 "nbformat_minor": 5
}
